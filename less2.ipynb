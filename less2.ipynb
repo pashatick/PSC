{
 "cells": [
  {
   "cell_type": "code",
   "execution_count": 1,
   "metadata": {},
   "outputs": [
    {
     "ename": "ModuleNotFoundError",
     "evalue": "No module named 'pymongo'",
     "output_type": "error",
     "traceback": [
      "\u001b[0;31m---------------------------------------------------------------------------\u001b[0m",
      "\u001b[0;31mModuleNotFoundError\u001b[0m                       Traceback (most recent call last)",
      "\u001b[0;32m<ipython-input-1-a2492c6bca6e>\u001b[0m in \u001b[0;36m<module>\u001b[0;34m\u001b[0m\n\u001b[1;32m      7\u001b[0m \u001b[0;32mimport\u001b[0m \u001b[0mtime\u001b[0m\u001b[0;34m\u001b[0m\u001b[0;34m\u001b[0m\u001b[0m\n\u001b[1;32m      8\u001b[0m \u001b[0;32mimport\u001b[0m \u001b[0mmath\u001b[0m\u001b[0;34m\u001b[0m\u001b[0;34m\u001b[0m\u001b[0m\n\u001b[0;32m----> 9\u001b[0;31m \u001b[0;32mfrom\u001b[0m \u001b[0mpymongo\u001b[0m \u001b[0;32mimport\u001b[0m \u001b[0mMongoClient\u001b[0m\u001b[0;34m\u001b[0m\u001b[0;34m\u001b[0m\u001b[0m\n\u001b[0m",
      "\u001b[0;31mModuleNotFoundError\u001b[0m: No module named 'pymongo'"
     ]
    }
   ],
   "source": [
    "import requests as req\n",
    "from pprint import pprint\n",
    "from bs4 import BeautifulSoup as bs\n",
    "import pandas as pd\n",
    "import numpy as np\n",
    "import getpass\n",
    "import time\n",
    "import math\n",
    "from pymongo import MongoClient"
   ]
  },
  {
   "cell_type": "code",
   "execution_count": 2,
   "metadata": {},
   "outputs": [],
   "source": [
    "vacancy_data = []"
   ]
  },
  {
   "cell_type": "code",
   "execution_count": 195,
   "metadata": {},
   "outputs": [],
   "source": [
    "def pars_sj():\n",
    "    main_link = 'https://www.superjob.ru'\n",
    "    u_a = {'User-Agent':'Mozilla/5.0 (X11; Ubuntu; Linux x86_64; rv:69.0) Gecko/20100101 Firefox/69.0',\n",
    "           'Accept':'*/*'}\n",
    "    vacancy = '/vacancy/search/?keywords=Таксист'\n",
    "    page = req.get(main_link+vacancy, headers=u_a)\n",
    "    html = bs(page.text, 'lxml')\n",
    "\n",
    "    vac_block = html.findAll('div',{'class':'f-test-vacancy-item'})\n",
    "    \n",
    "    for vac in vac_block:\n",
    "        vac_link = vac.find('a',{'class':'_3dPok'})['href']\n",
    "        vac_page = bs(req.get(main_link+vac_link, headers=u_a).text, 'lxml')\n",
    "        vac_name = vac_page.find('h1',{'class':'_3mfro'}).getText()\n",
    "        #location = vac_page.find('span', {'class':'_2JVkc'}).getText()\n",
    "        salary = vac_page.find('span', {'class':'ZON4b'}).getText()\n",
    "        \n",
    "        if salary[0:2] == 'от':\n",
    "            min_salary = vac_page.find('span', {'class':'ZON4b'}).findChildren()[0].getText()\n",
    "            max_salary = None\n",
    "            currency = vac_page.find('span', {'class':'ZON4b'}).findChildren()[1].getText()\n",
    "        elif salary[0:2] == 'до':\n",
    "            max_salary = vac_page.find('span', {'class':'ZON4b'}).findChildren()[0].getText()\n",
    "            min_salary = None\n",
    "            currency = vac_page.find('span', {'class':'ZON4b'}).findChildren()[1].getText()\n",
    "        else:\n",
    "            max_salary = None\n",
    "            min_salary = None\n",
    "            currency = None\n",
    "        vacancy_data.append({'URL':main_link,\n",
    "                     'Ссылка на вакансию':main_link+vac_link,\n",
    "                     'Должность':vac_name,\n",
    "                     'Минимальная зарплата':min_salary,\n",
    "                     'Максимальная зарплата':max_salary,\n",
    "                     'Валюта':currency})\n"
   ]
  },
  {
   "cell_type": "code",
   "execution_count": 3,
   "metadata": {},
   "outputs": [],
   "source": [
    "def pars_hh ():\n",
    "    main_link = 'https://rostov.hh.ru'\n",
    "    vacancy = '/search/vacancy?clusters=true&area=76&enable_snippets=true&salary=&st=searchVacancy&text=Такси&from=suggest_post'\n",
    "    u_a = {'User-Agent':'Mozilla/5.0 (X11; Ubuntu; Linux x86_64; rv:69.0) Gecko/20100101 Firefox/69.0',\n",
    "           'Accept':'*/*'}\n",
    "    session = req.Session()\n",
    "    page = session.get(main_link+vacancy, headers=u_a)\n",
    "    html = bs(page.text, 'lxml')\n",
    "    \n",
    "    page_count = math.ceil(int(html.find('h1', {'data-qa':'page-title'}).getText().split()[0])/20)\n",
    "    \n",
    "    for i in range(page_count):\n",
    "    \n",
    "        vac_block = html.find('div', {'class':'vacancy-serp'}).findAll('div', {'class':'vacancy-serp-item'})\n",
    "    \n",
    "        for vac in vac_block:    \n",
    "            vac_link = vac.find('a', {'class':'HH-LinkModifier'})['href']\n",
    "            vac_page = bs(req.get(vac_link, headers=u_a).text, 'lxml')\n",
    "            vac_name = vac_page.find('h1', {'data-qa':'vacancy-title'}).getText()\n",
    "            salary = vac_page.find('div', {'class':'vacancy-title'}).find('p', {'class':'vacancy-salary'}).getText().split()\n",
    "\n",
    "            if salary[0] == 'от' and salary[3] != 'до':\n",
    "                min_salary = salary[1]+salary[2]\n",
    "                max_salary = None\n",
    "                currency = '₽'\n",
    "\n",
    "            elif salary[0] == 'от' and salary[3] == 'до':\n",
    "                min_salary = salary[1]+salary[2]\n",
    "                max_salary = salary[4]+salary[5]\n",
    "                currency = '₽'\n",
    "\n",
    "            else:\n",
    "                min_salary = None\n",
    "                max_salary = None\n",
    "                currency = None\n",
    "\n",
    "            vacancy_data.append({'URL':main_link,\n",
    "                         'Ссылка на вакансию':vac_link,\n",
    "                         'Должность':vac_name,\n",
    "                         'Минимальная зарплата':min_salary,\n",
    "                         'Максимальная зарплата':max_salary,\n",
    "                         'Валюта':currency})\n",
    "\n",
    "        vacancy = html.find('a',{'class':'HH-Pager-Controls-Next'})['href']\n",
    "\n"
   ]
  },
  {
   "cell_type": "code",
   "execution_count": 4,
   "metadata": {},
   "outputs": [],
   "source": [
    "pars_sj()\n",
    "pars_hh()"
   ]
  },
  {
   "cell_type": "code",
   "execution_count": 5,
   "metadata": {},
   "outputs": [],
   "source": [
    "df = pd.DataFrame(vacancy_data) "
   ]
  },
  {
   "cell_type": "code",
   "execution_count": null,
   "metadata": {},
   "outputs": [],
   "source": [
    "client = Mongo"
   ]
  },
  {
   "cell_type": "code",
   "execution_count": null,
   "metadata": {},
   "outputs": [],
   "source": []
  },
  {
   "cell_type": "code",
   "execution_count": null,
   "metadata": {},
   "outputs": [],
   "source": []
  },
  {
   "cell_type": "code",
   "execution_count": null,
   "metadata": {},
   "outputs": [],
   "source": []
  }
 ],
 "metadata": {
  "kernelspec": {
   "display_name": "Python 3",
   "language": "python",
   "name": "python3"
  },
  "language_info": {
   "codemirror_mode": {
    "name": "ipython",
    "version": 3
   },
   "file_extension": ".py",
   "mimetype": "text/x-python",
   "name": "python",
   "nbconvert_exporter": "python",
   "pygments_lexer": "ipython3",
   "version": "3.7.4"
  }
 },
 "nbformat": 4,
 "nbformat_minor": 4
}
